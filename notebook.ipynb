{
 "cells": [
  {
   "cell_type": "code",
   "execution_count": 46,
   "metadata": {},
   "outputs": [],
   "source": [
    "import keras\n",
    "from keras.preprocessing.image import ImageDataGenerator\n",
    "from keras.models import Sequential\n",
    "from keras.layers import Conv2D, MaxPooling2D, BatchNormalization\n",
    "from keras.layers import Dense, Dropout, Flatten\n",
    "\n",
    "from sklearn.model_selection import train_test_split\n",
    "\n",
    "import matplotlib.pyplot as plt\n",
    "import numpy as np\n",
    "import pandas as pd\n",
    "import os\n",
    "import zipfile"
   ]
  },
  {
   "cell_type": "code",
   "execution_count": 30,
   "metadata": {},
   "outputs": [],
   "source": [
    "train_dir = 'data/train/'\n",
    "test_dir = 'data/test1/'"
   ]
  },
  {
   "cell_type": "code",
   "execution_count": 31,
   "metadata": {},
   "outputs": [
    {
     "data": {
      "text/html": [
       "<div>\n",
       "<style scoped>\n",
       "    .dataframe tbody tr th:only-of-type {\n",
       "        vertical-align: middle;\n",
       "    }\n",
       "\n",
       "    .dataframe tbody tr th {\n",
       "        vertical-align: top;\n",
       "    }\n",
       "\n",
       "    .dataframe thead th {\n",
       "        text-align: right;\n",
       "    }\n",
       "</style>\n",
       "<table border=\"1\" class=\"dataframe\">\n",
       "  <thead>\n",
       "    <tr style=\"text-align: right;\">\n",
       "      <th></th>\n",
       "      <th>filename</th>\n",
       "      <th>category</th>\n",
       "    </tr>\n",
       "  </thead>\n",
       "  <tbody>\n",
       "    <tr>\n",
       "      <th>0</th>\n",
       "      <td>dog.3064.jpg</td>\n",
       "      <td>dog</td>\n",
       "    </tr>\n",
       "    <tr>\n",
       "      <th>1</th>\n",
       "      <td>dog.624.jpg</td>\n",
       "      <td>dog</td>\n",
       "    </tr>\n",
       "    <tr>\n",
       "      <th>2</th>\n",
       "      <td>dog.1662.jpg</td>\n",
       "      <td>dog</td>\n",
       "    </tr>\n",
       "    <tr>\n",
       "      <th>3</th>\n",
       "      <td>cat.12431.jpg</td>\n",
       "      <td>cat</td>\n",
       "    </tr>\n",
       "    <tr>\n",
       "      <th>4</th>\n",
       "      <td>dog.3350.jpg</td>\n",
       "      <td>dog</td>\n",
       "    </tr>\n",
       "    <tr>\n",
       "      <th>...</th>\n",
       "      <td>...</td>\n",
       "      <td>...</td>\n",
       "    </tr>\n",
       "    <tr>\n",
       "      <th>24995</th>\n",
       "      <td>dog.3852.jpg</td>\n",
       "      <td>dog</td>\n",
       "    </tr>\n",
       "    <tr>\n",
       "      <th>24996</th>\n",
       "      <td>dog.6171.jpg</td>\n",
       "      <td>dog</td>\n",
       "    </tr>\n",
       "    <tr>\n",
       "      <th>24997</th>\n",
       "      <td>dog.2205.jpg</td>\n",
       "      <td>dog</td>\n",
       "    </tr>\n",
       "    <tr>\n",
       "      <th>24998</th>\n",
       "      <td>dog.11558.jpg</td>\n",
       "      <td>dog</td>\n",
       "    </tr>\n",
       "    <tr>\n",
       "      <th>24999</th>\n",
       "      <td>dog.1851.jpg</td>\n",
       "      <td>dog</td>\n",
       "    </tr>\n",
       "  </tbody>\n",
       "</table>\n",
       "<p>25000 rows × 2 columns</p>\n",
       "</div>"
      ],
      "text/plain": [
       "            filename category\n",
       "0       dog.3064.jpg      dog\n",
       "1        dog.624.jpg      dog\n",
       "2       dog.1662.jpg      dog\n",
       "3      cat.12431.jpg      cat\n",
       "4       dog.3350.jpg      dog\n",
       "...              ...      ...\n",
       "24995   dog.3852.jpg      dog\n",
       "24996   dog.6171.jpg      dog\n",
       "24997   dog.2205.jpg      dog\n",
       "24998  dog.11558.jpg      dog\n",
       "24999   dog.1851.jpg      dog\n",
       "\n",
       "[25000 rows x 2 columns]"
      ]
     },
     "execution_count": 31,
     "metadata": {},
     "output_type": "execute_result"
    }
   ],
   "source": [
    "train_data = os.listdir(train_dir)\n",
    "categories = []\n",
    "for file in train_data:\n",
    "    category = file.split('.')[0]\n",
    "    if category == 'dog':\n",
    "        categories.append('dog')\n",
    "    else:\n",
    "        categories.append('cat')\n",
    "df = pd.DataFrame({'filename' : train_data, \n",
    "                   'category' : categories})\n",
    "df"
   ]
  },
  {
   "cell_type": "code",
   "execution_count": 32,
   "metadata": {},
   "outputs": [
    {
     "name": "stdout",
     "output_type": "stream",
     "text": [
      "No. of cat images:  12500\n",
      "No. of cat images:  12500\n"
     ]
    }
   ],
   "source": [
    "print('No. of cat images: ',len(df[df['category'] == 'cat']))\n",
    "print('No. of cat images: ',len(df[df['category'] == 'dog']))"
   ]
  },
  {
   "cell_type": "code",
   "execution_count": 33,
   "metadata": {},
   "outputs": [],
   "source": [
    "model = Sequential()\n",
    "\n",
    "# 3 Convolutional, Pooling, Dropout layers\n",
    "model.add(Conv2D(8, \n",
    "                 (3,3), \n",
    "                 activation = 'relu', \n",
    "                 input_shape = (150, 150, 3)))\n",
    "model.add(MaxPooling2D(2,2))\n",
    "model.add(Dropout(0.25))\n",
    "\n",
    "model.add(Conv2D(16, \n",
    "                 (3, 3),\n",
    "                 activation = 'relu'))\n",
    "model.add(MaxPooling2D(2,2))\n",
    "model.add(Dropout(0.25))\n",
    "\n",
    "model.add(Conv2D(32, \n",
    "                 (3,3), \n",
    "                 activation = 'relu'))\n",
    "model.add(MaxPooling2D(2,2))\n",
    "model.add(Dropout(0.25))\n",
    "\n",
    "# Dense layers start\n",
    "model.add(Flatten())\n",
    "\n",
    "model.add(Dense(1024, \n",
    "                activation = 'relu'))\n",
    "model.add(Dropout(0.45))\n",
    "\n",
    "model.add(Dense(256, \n",
    "                activation = 'tanh'))\n",
    "model.add(Dropout(0.45))\n",
    "\n",
    "model.add(Dense(2, \n",
    "                activation = 'sigmoid'))"
   ]
  },
  {
   "cell_type": "code",
   "execution_count": 34,
   "metadata": {},
   "outputs": [
    {
     "name": "stdout",
     "output_type": "stream",
     "text": [
      "Model: \"sequential_1\"\n",
      "_________________________________________________________________\n",
      "Layer (type)                 Output Shape              Param #   \n",
      "=================================================================\n",
      "conv2d_3 (Conv2D)            (None, 148, 148, 8)       224       \n",
      "_________________________________________________________________\n",
      "max_pooling2d_3 (MaxPooling2 (None, 74, 74, 8)         0         \n",
      "_________________________________________________________________\n",
      "dropout_5 (Dropout)          (None, 74, 74, 8)         0         \n",
      "_________________________________________________________________\n",
      "conv2d_4 (Conv2D)            (None, 72, 72, 16)        1168      \n",
      "_________________________________________________________________\n",
      "max_pooling2d_4 (MaxPooling2 (None, 36, 36, 16)        0         \n",
      "_________________________________________________________________\n",
      "dropout_6 (Dropout)          (None, 36, 36, 16)        0         \n",
      "_________________________________________________________________\n",
      "conv2d_5 (Conv2D)            (None, 34, 34, 32)        4640      \n",
      "_________________________________________________________________\n",
      "max_pooling2d_5 (MaxPooling2 (None, 17, 17, 32)        0         \n",
      "_________________________________________________________________\n",
      "dropout_7 (Dropout)          (None, 17, 17, 32)        0         \n",
      "_________________________________________________________________\n",
      "flatten_1 (Flatten)          (None, 9248)              0         \n",
      "_________________________________________________________________\n",
      "dense_3 (Dense)              (None, 1024)              9470976   \n",
      "_________________________________________________________________\n",
      "dropout_8 (Dropout)          (None, 1024)              0         \n",
      "_________________________________________________________________\n",
      "dense_4 (Dense)              (None, 256)               262400    \n",
      "_________________________________________________________________\n",
      "dropout_9 (Dropout)          (None, 256)               0         \n",
      "_________________________________________________________________\n",
      "dense_5 (Dense)              (None, 2)                 514       \n",
      "=================================================================\n",
      "Total params: 9,739,922\n",
      "Trainable params: 9,739,922\n",
      "Non-trainable params: 0\n",
      "_________________________________________________________________\n"
     ]
    }
   ],
   "source": [
    "model.summary()"
   ]
  },
  {
   "cell_type": "code",
   "execution_count": 35,
   "metadata": {},
   "outputs": [],
   "source": [
    "model.compile(loss = 'binary_crossentropy', \n",
    "              optimizer = 'adam',\n",
    "              metrics = ['accuracy'])"
   ]
  },
  {
   "cell_type": "code",
   "execution_count": 36,
   "metadata": {},
   "outputs": [],
   "source": [
    "train_df, val_df = train_test_split(df, \n",
    "                                    test_size = 0.25)\n",
    "train_df = train_df.reset_index(drop = True)\n",
    "val_df = val_df.reset_index(drop = True)"
   ]
  },
  {
   "cell_type": "code",
   "execution_count": 37,
   "metadata": {},
   "outputs": [
    {
     "name": "stdout",
     "output_type": "stream",
     "text": [
      "Train size:  18750\n",
      "Validation size:  6250\n"
     ]
    }
   ],
   "source": [
    "print(\"Train size: \", len(train_df))\n",
    "print(\"Validation size: \", len(val_df))"
   ]
  },
  {
   "cell_type": "code",
   "execution_count": 38,
   "metadata": {},
   "outputs": [
    {
     "name": "stdout",
     "output_type": "stream",
     "text": [
      "Dogs in train set:  9373\n",
      "Cats in train set:  9377\n",
      "Dogs in validation set:  3127\n",
      "Cats in validation set:  3123\n"
     ]
    }
   ],
   "source": [
    "print(\"Dogs in train set: \", len(train_df[train_df['category'] == 'dog']))\n",
    "print(\"Cats in train set: \", len(train_df[train_df['category'] == 'cat']))\n",
    "print(\"Dogs in validation set: \", len(val_df[val_df['category'] == 'dog']))\n",
    "print(\"Cats in validation set: \", len(val_df[val_df['category'] == 'cat']))"
   ]
  },
  {
   "cell_type": "code",
   "execution_count": 39,
   "metadata": {},
   "outputs": [
    {
     "name": "stdout",
     "output_type": "stream",
     "text": [
      "Found 18750 validated image filenames belonging to 2 classes.\n",
      "Found 6250 validated image filenames belonging to 2 classes.\n"
     ]
    }
   ],
   "source": [
    "train_datagen = ImageDataGenerator(rescale = 1./255)\n",
    "val_datagen = ImageDataGenerator(rescale = 1./255)\n",
    "\n",
    "train_generator = train_datagen.flow_from_dataframe(train_df, \n",
    "                                                    'data/train/', \n",
    "                                                    x_col = 'filename', \n",
    "                                                    y_col = 'category', \n",
    "                                                    target_size =(150, 150), \n",
    "                                                    class_mode = 'categorical', \n",
    "                                                    batch_size = 20, \n",
    "                                                    color_mode = 'rgb', \n",
    "                                                    shuffle = True)\n",
    "\n",
    "val_generator = val_datagen.flow_from_dataframe(val_df, \n",
    "                                                    'data/train/', \n",
    "                                                    x_col = 'filename', \n",
    "                                                    y_col = 'category', \n",
    "                                                    target_size =(150, 150), \n",
    "                                                    class_mode = 'categorical', \n",
    "                                                    batch_size = 20, \n",
    "                                                    color_mode = 'rgb', \n",
    "                                                    shuffle = True)"
   ]
  },
  {
   "cell_type": "code",
   "execution_count": 40,
   "metadata": {},
   "outputs": [
    {
     "name": "stdout",
     "output_type": "stream",
     "text": [
      "Epoch 1/10\n",
      "292/292 [==============================] - 79s 264ms/step - loss: 0.7825 - accuracy: 0.5214 - val_loss: 0.6935 - val_accuracy: 0.4948\n",
      "Epoch 2/10\n",
      "292/292 [==============================] - 74s 253ms/step - loss: 0.6861 - accuracy: 0.5404 - val_loss: 0.6894 - val_accuracy: 0.5691\n",
      "Epoch 3/10\n",
      "292/292 [==============================] - 68s 233ms/step - loss: 0.6658 - accuracy: 0.5829 - val_loss: 0.5881 - val_accuracy: 0.6820\n",
      "Epoch 4/10\n",
      "292/292 [==============================] - 74s 255ms/step - loss: 0.5998 - accuracy: 0.6695 - val_loss: 0.6355 - val_accuracy: 0.6139\n",
      "Epoch 5/10\n",
      "292/292 [==============================] - 67s 229ms/step - loss: 0.5776 - accuracy: 0.6978 - val_loss: 0.6236 - val_accuracy: 0.6474\n",
      "Epoch 6/10\n",
      "292/292 [==============================] - 70s 239ms/step - loss: 0.5556 - accuracy: 0.7105 - val_loss: 0.5229 - val_accuracy: 0.7361\n",
      "Epoch 7/10\n",
      "292/292 [==============================] - 71s 243ms/step - loss: 0.5401 - accuracy: 0.7269 - val_loss: 0.5347 - val_accuracy: 0.7299\n",
      "Epoch 8/10\n",
      "292/292 [==============================] - 70s 238ms/step - loss: 0.5101 - accuracy: 0.7539 - val_loss: 0.5554 - val_accuracy: 0.7103\n",
      "Epoch 9/10\n",
      "292/292 [==============================] - 74s 255ms/step - loss: 0.4943 - accuracy: 0.7544 - val_loss: 0.4998 - val_accuracy: 0.7526\n",
      "Epoch 10/10\n",
      "292/292 [==============================] - 75s 255ms/step - loss: 0.4666 - accuracy: 0.7811 - val_loss: 0.5282 - val_accuracy: 0.7402\n"
     ]
    }
   ],
   "source": [
    "history = model.fit(\n",
    "    train_generator, \n",
    "    steps_per_epoch = len(train_df)//64, \n",
    "    epochs = 10, \n",
    "    validation_data = val_generator, \n",
    "    validation_steps = len(val_df)//64)"
   ]
  },
  {
   "cell_type": "code",
   "execution_count": 42,
   "metadata": {},
   "outputs": [
    {
     "name": "stdout",
     "output_type": "stream",
     "text": [
      "Training accuracy: 0.771\n",
      "Validation accuracy: 0.740\n"
     ]
    }
   ],
   "source": [
    "print('Training accuracy: {:.3f}'.format(history.history['accuracy'][-1]))\n",
    "print('Validation accuracy: {:.3f}'.format(history.history['val_accuracy'][-1]))"
   ]
  },
  {
   "cell_type": "code",
   "execution_count": 43,
   "metadata": {},
   "outputs": [
    {
     "data": {
      "image/png": "[encoded data removed]",
      "text/plain": [
       "<Figure size 864x864 with 2 Axes>"
      ]
     },
     "metadata": {
      "needs_background": "light"
     },
     "output_type": "display_data"
    }
   ],
   "source": [
    "fig,(ax1, ax2) = plt.subplots(2, 1, figsize = (12,12))\n",
    "ax1.plot(history.history[\"loss\"], color= \"red\", label = \"Training loss\")\n",
    "ax1.plot(history.history[\"val_loss\"], color= \"b\", label = \"Validation loss\")\n",
    "\n",
    "ax1.set_xticks(np.arange(1, 10, 1))\n",
    "ax1.set_yticks(np.arange(0, 1, 0.1))\n",
    "\n",
    "ax2.plot(history.history[\"accuracy\"], color = \"red\", label = \"Training accuracy\")\n",
    "ax2.plot(history.history[\"val_accuracy\"], color = \"b\", label = \"Validation accuracy\")\n",
    "\n",
    "ax2.set_xticks(np.arange(1,10, 1))\n",
    "ax2.set_yticks(np.arange(0, 1, 0.1))\n",
    "\n",
    "legend = plt.legend(loc = \"best\", shadow = True)\n",
    "plt.tight_layout()\n",
    "plt.show()"
   ]
  },
  {
   "cell_type": "code",
   "execution_count": 48,
   "metadata": {},
   "outputs": [
    {
     "name": "stdout",
     "output_type": "stream",
     "text": [
      "INFO:tensorflow:Assets written to: ./model/1/assets\n"
     ]
    }
   ],
   "source": [
    "MODEL_DIR = './model'\n",
    "version = 1\n",
    "export_path = os.path.join(MODEL_DIR, str(version))\n",
    "keras.models.save_model(\n",
    "    model,\n",
    "    export_path,\n",
    "    overwrite=True,\n",
    "    include_optimizer=True,\n",
    "    save_format=None,\n",
    "    signatures=None,\n",
    "    options=None\n",
    ")"
   ]
  },
  {
   "cell_type": "markdown",
   "metadata": {},
   "source": [
    "To copy model from container, run:\n",
    "\n",
    "docker cp 6e83c3797f35:/tf/notebooks/cats_vs_dogs/model .\n",
    "\n",
    "To build dockerfile, run:\n",
    "\n",
    "docker build . -t tf_serving_image_cvsd\n",
    "\n",
    "To run image, execute:\n",
    "\n",
    "docker run -p 8501:8501 tf_serving_image_cvsd"
   ]
  }
 ],
 "metadata": {
  "kernelspec": {
   "display_name": "Python 3",
   "language": "python",
   "name": "python3"
  },
  "language_info": {
   "codemirror_mode": {
    "name": "ipython",
    "version": 3
   },
   "file_extension": ".py",
   "mimetype": "text/x-python",
   "name": "python",
   "nbconvert_exporter": "python",
   "pygments_lexer": "ipython3",
   "version": "3.6.9"
  }
 },
 "nbformat": 4,
 "nbformat_minor": 2
}
